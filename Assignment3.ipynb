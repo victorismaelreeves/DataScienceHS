{
  "nbformat": 4,
  "nbformat_minor": 0,
  "metadata": {
    "colab": {
      "name": "Assignment3.ipynb",
      "provenance": [],
      "include_colab_link": true
    },
    "kernelspec": {
      "display_name": "Python 3 (ipykernel)",
      "language": "python",
      "name": "python3"
    },
    "language_info": {
      "codemirror_mode": {
        "name": "ipython",
        "version": 3
      },
      "file_extension": ".py",
      "mimetype": "text/x-python",
      "name": "python",
      "nbconvert_exporter": "python",
      "pygments_lexer": "ipython3",
      "version": "3.8.12"
    }
  },
  "cells": [
    {
      "cell_type": "markdown",
      "metadata": {
        "id": "view-in-github",
        "colab_type": "text"
      },
      "source": [
        "<a href=\"https://colab.research.google.com/github/victorismaelreeves/DataScienceHS/blob/master/Assignment3.ipynb\" target=\"_parent\"><img src=\"https://colab.research.google.com/assets/colab-badge.svg\" alt=\"Open In Colab\"/></a>"
      ]
    },
    {
      "cell_type": "markdown",
      "metadata": {
        "id": "Qscqa3B6KDFl"
      },
      "source": [
        "## Content\n",
        "\n",
        "1. <A HREF=\"https://docs.python.org/3/tutorial/datastructures.html#more-on-lists\"> List </A>\n",
        "2. <A HREF=\"https://docs.python.org/3/tutorial/datastructures.html#tuples-and-sequences\"> Tuple </A>\n",
        "3. <A HREF=\"https://docs.python.org/3/tutorial/datastructures.html#dictionaries\"> Dictionary </A>\n",
        "4. <A HREF=\"https://docs.python.org/3/tutorial/datastructures.html#sets\"> Set </A>\n",
        "5. <A HREF=\"https://realpython.com/python-counter/\"> Counter </A>\n",
        "\n",
        "\n"
      ]
    },
    {
      "cell_type": "markdown",
      "metadata": {
        "id": "7LF38xA7LIlT"
      },
      "source": [
        "## <font color=\"green\">1. List</font>"
      ]
    },
    {
      "cell_type": "markdown",
      "metadata": {
        "id": "8-MFZQ3xLIlU"
      },
      "source": [
        "### Exercise 1.1\n",
        "\n",
        "Create `cleared_python_text` by removing all non-letter symbols from the given string `python_text`. Convert to lower case. Create a list of words `python_words`. Print the length of the list.\n",
        "\n",
        "Hints: str.split, str.replace"
      ]
    },
    {
      "cell_type": "code",
      "metadata": {
        "id": "CF2q1lHnLIlU"
      },
      "source": [
        "python_text = \"\"\"\n",
        "Python is an interpreted high-level general-purpose programming language. Python's design \n",
        "philosophy emphasizes code readability with its notable use of significant indentation. Its \n",
        "language constructs as well as its object-oriented approach aim to help programmers write clear, \n",
        "logical code for small and large-scale projects. Python is dynamically-typed and \n",
        "garbage-collected. It supports multiple programming paradigms, including structured (particularly, \n",
        "procedural), object-oriented and functional programming. Python is often described as a \"batteries \n",
        "included\" language due to its comprehensive standard library. Guido van Rossum began working on \n",
        "Python in the late 1980s, as a successor to the ABC programming language, and first released it in \n",
        "1991 as Python 0.9.0. Python 2.0 was released in 2000 and introduced new features, such as list \n",
        "comprehensions and a garbage collection system using reference counting. Python 3.0 was released in \n",
        "2008 and was a major revision of the language that is not completely backward-compatible and much \n",
        "Python 2 code does not run unmodified on Python 3. Python 2 was discontinued with version 2.7.18 in \n",
        "2020. Python consistently ranks as one of the most popular programming \n",
        "languages.\n",
        "\"\"\""
      ],
      "execution_count": null,
      "outputs": []
    },
    {
      "cell_type": "code",
      "metadata": {
        "id": "ymxoyv2ZLIlV",
        "colab": {
          "base_uri": "https://localhost:8080/"
        },
        "outputId": "6964d760-9060-4e2d-b5dd-d4884602ad79"
      },
      "source": [
        "import string\n",
        "\n",
        "python_text.split()\n",
        "cleared_python_text = [word.lower().strip(string.punctuation) for word in python_text.split()]\n",
        "python_words = len(cleared_python_text)\n",
        "\n",
        "print(cleared_python_text)\n",
        "print(python_words)\n",
        "\n"
      ],
      "execution_count": null,
      "outputs": [
        {
          "output_type": "stream",
          "name": "stdout",
          "text": [
            "['python', 'is', 'an', 'interpreted', 'high-level', 'general-purpose', 'programming', 'language', \"python's\", 'design', 'philosophy', 'emphasizes', 'code', 'readability', 'with', 'its', 'notable', 'use', 'of', 'significant', 'indentation', 'its', 'language', 'constructs', 'as', 'well', 'as', 'its', 'object-oriented', 'approach', 'aim', 'to', 'help', 'programmers', 'write', 'clear', 'logical', 'code', 'for', 'small', 'and', 'large-scale', 'projects', 'python', 'is', 'dynamically-typed', 'and', 'garbage-collected', 'it', 'supports', 'multiple', 'programming', 'paradigms', 'including', 'structured', 'particularly', 'procedural', 'object-oriented', 'and', 'functional', 'programming', 'python', 'is', 'often', 'described', 'as', 'a', 'batteries', 'included', 'language', 'due', 'to', 'its', 'comprehensive', 'standard', 'library', 'guido', 'van', 'rossum', 'began', 'working', 'on', 'python', 'in', 'the', 'late', '1980s', 'as', 'a', 'successor', 'to', 'the', 'abc', 'programming', 'language', 'and', 'first', 'released', 'it', 'in', '1991', 'as', 'python', '0.9.0', 'python', '2.0', 'was', 'released', 'in', '2000', 'and', 'introduced', 'new', 'features', 'such', 'as', 'list', 'comprehensions', 'and', 'a', 'garbage', 'collection', 'system', 'using', 'reference', 'counting', 'python', '3.0', 'was', 'released', 'in', '2008', 'and', 'was', 'a', 'major', 'revision', 'of', 'the', 'language', 'that', 'is', 'not', 'completely', 'backward-compatible', 'and', 'much', 'python', '2', 'code', 'does', 'not', 'run', 'unmodified', 'on', 'python', '3', 'python', '2', 'was', 'discontinued', 'with', 'version', '2.7.18', 'in', '2020', 'python', 'consistently', 'ranks', 'as', 'one', 'of', 'the', 'most', 'popular', 'programming', 'languages']\n",
            "177\n"
          ]
        }
      ]
    },
    {
      "cell_type": "markdown",
      "metadata": {
        "id": "79-KQTeBLIlV"
      },
      "source": [
        "### Exercise 1.2\n",
        "\n",
        "Print all sublists of the list `nucleotides`. Note: [a, c] is a sublist for [a, b, c].\n",
        "\n",
        "Sample input: `[0, 1]`\n",
        "\n",
        "Sample output:\n",
        "*   []\n",
        "*   [0]\n",
        "*   [1]\n",
        "*   [0, 1]\n"
      ]
    },
    {
      "cell_type": "code",
      "metadata": {
        "id": "ucN2IaC0LIlV"
      },
      "source": [
        "nucleotides = ['A', 'T', 'G', 'C']"
      ],
      "execution_count": null,
      "outputs": []
    },
    {
      "cell_type": "code",
      "metadata": {
        "id": "4Idmfd_lLIlV",
        "colab": {
          "base_uri": "https://localhost:8080/"
        },
        "outputId": "a153a24f-e4d4-4e0a-dae5-f30eebefce65"
      },
      "source": [
        "lists = [[]]\n",
        "\n",
        "for i in range(len(nucleotides) + 1):\n",
        "    for j in range(i):\n",
        "      lists.append(nucleotides[j: i])\n",
        "\n",
        "print(lists)"
      ],
      "execution_count": null,
      "outputs": [
        {
          "output_type": "stream",
          "name": "stdout",
          "text": [
            "[[], ['A'], ['A', 'T'], ['T'], ['A', 'T', 'G'], ['T', 'G'], ['G'], ['A', 'T', 'G', 'C'], ['T', 'G', 'C'], ['G', 'C'], ['C']]\n"
          ]
        }
      ]
    },
    {
      "cell_type": "markdown",
      "metadata": {
        "id": "Pn0BHR1SLIlW"
      },
      "source": [
        "### Exercise 1.3\n",
        "\n",
        "With list comprehensions create matrix $N \\times N$ containing squares of integers starting from $0$. First the first column is filled, then the second, and so on."
      ]
    },
    {
      "cell_type": "code",
      "metadata": {
        "id": "l3V2rBUxLIlW",
        "colab": {
          "base_uri": "https://localhost:8080/"
        },
        "outputId": "94da24eb-416b-4327-c2cc-efab4bffbfa7"
      },
      "source": [
        "import numpy as np\n",
        "\n",
        "N = int(input())\n",
        "matrix = [[j**2 for j in range(N)] for i in range(N)]\n",
        "\n",
        "print(np.array(matrix))"
      ],
      "execution_count": null,
      "outputs": [
        {
          "output_type": "stream",
          "name": "stdout",
          "text": [
            "5\n",
            "[[ 0  1  4  9 16]\n",
            " [ 0  1  4  9 16]\n",
            " [ 0  1  4  9 16]\n",
            " [ 0  1  4  9 16]\n",
            " [ 0  1  4  9 16]]\n"
          ]
        }
      ]
    },
    {
      "cell_type": "code",
      "metadata": {
        "id": "9nVsbrfbLIlW"
      },
      "source": [
        "# sample output\n",
        "# [[0, 9, 36]\n",
        "# [1, 16, 49]\n",
        "# [4, 25, 64]]"
      ],
      "execution_count": null,
      "outputs": []
    },
    {
      "cell_type": "markdown",
      "metadata": {
        "id": "wS1oIF_JLIlW"
      },
      "source": [
        "### Exercise 1.4\n",
        "\n",
        "Create 'decoded' list from 'encoded'\n",
        "\n",
        "Example: \n",
        "\n",
        "```encode_list = [0, [1, 2], 4, [1, 0, 3]]```\n",
        "\n",
        "```decode_list = [0, 1, 2, 4, 1, 0, 3]```\n",
        "\n"
      ]
    },
    {
      "cell_type": "code",
      "metadata": {
        "id": "EIGg_nXqLIlW",
        "colab": {
          "base_uri": "https://localhost:8080/"
        },
        "outputId": "0924d250-86b5-4cd7-d4ff-89e9b8c1faa9"
      },
      "source": [
        "encode_list = [0, [1, 2], 4, [1, 0, 3]]\n",
        "decoded_list = lambda encode_list:[element for item in encode_list for element in decoded_list(item)] if type(encode_list) is list else [encode_list]\n",
        "\n",
        "print(decoded_list(encode_list))"
      ],
      "execution_count": null,
      "outputs": [
        {
          "output_type": "stream",
          "name": "stdout",
          "text": [
            "[0, 1, 2, 4, 1, 0, 3]\n"
          ]
        }
      ]
    },
    {
      "cell_type": "markdown",
      "metadata": {
        "id": "k0bMk_8KLIlW"
      },
      "source": [
        "## <font color=\"green\">2. Tuple</font>"
      ]
    },
    {
      "cell_type": "markdown",
      "metadata": {
        "id": "_YACckMiLIlW"
      },
      "source": [
        "### Exercise 2.1\n",
        "\n",
        "Convert string to tuple"
      ]
    },
    {
      "cell_type": "code",
      "metadata": {
        "id": "13sUrNX-LIlX",
        "colab": {
          "base_uri": "https://localhost:8080/"
        },
        "outputId": "226526f3-d0ee-4d8a-9808-a3dc24b42ca3"
      },
      "source": [
        "input_str = input('Input string: ')\n",
        "tuple(input_str)"
      ],
      "execution_count": null,
      "outputs": [
        {
          "name": "stdout",
          "output_type": "stream",
          "text": [
            "Input string: hello\n"
          ]
        },
        {
          "output_type": "execute_result",
          "data": {
            "text/plain": [
              "('h', 'e', 'l', 'l', 'o')"
            ]
          },
          "metadata": {},
          "execution_count": 56
        }
      ]
    },
    {
      "cell_type": "markdown",
      "metadata": {
        "id": "EAMK_9rYLIlX"
      },
      "source": [
        "### Exercise 2.2\n",
        "\n",
        "Calculate the sum and average for each tuple in the given list. Return a list of `(sum, mean)` tuples"
      ]
    },
    {
      "cell_type": "code",
      "metadata": {
        "id": "HpILOzHVf5xY"
      },
      "source": [
        "list_of_tuples = [(1, 2, 6), (2, 3, -6), (3, 4), (2, 2, 2, 2)]\n",
        "lst1 = []\n",
        "\n",
        "for i in list_of_tuples:\n",
        "  x = sum(i)\n",
        "  y = sum(i) / len(i)\n",
        "  z=[]\n",
        "  z.append(x)\n",
        "  z.append(y)\n",
        "  lst1.append(tuple(z))\n",
        "\n",
        "print(lst1)"
      ],
      "execution_count": null,
      "outputs": []
    },
    {
      "cell_type": "markdown",
      "metadata": {
        "id": "6Au2odgSLIlX"
      },
      "source": [
        "### Exercise 2.3\n",
        "\n",
        "Given a list (create one for tests) with strings \"name number\". Return a tuple of tuples (\"name\", number) sorted in decreasing order by number. For same numbers sort alphabetically."
      ]
    },
    {
      "cell_type": "code",
      "metadata": {
        "id": "yFzPlgUbgR5X"
      },
      "source": [
        "templist = [ (line[1], line) for line in MY_TUPLE ] \n",
        "templist.sort()\n",
        "SORTED_MY_TUPLE = [ line[1] for line in templist ]"
      ],
      "execution_count": null,
      "outputs": []
    },
    {
      "cell_type": "markdown",
      "metadata": {
        "id": "ATgzZd6WLIlX"
      },
      "source": [
        "### Exercise 2.4\n",
        "\n",
        "Generate a list with equal length tuples with numbers. Return tuple with element-wise sums.\n",
        "\n",
        "\n",
        "Sample input: ```[(1, 5), (1, 7), (2, 8)]```\n",
        "\n",
        "Sample output: ```(4, 20)```"
      ]
    },
    {
      "cell_type": "code",
      "metadata": {
        "id": "-Tipld8kLIlX",
        "colab": {
          "base_uri": "https://localhost:8080/"
        },
        "outputId": "5422e73e-70da-430c-aaa9-04031510c9cf"
      },
      "source": [
        "x = [(1, 5), (1, 7), (2, 8)]\n",
        "a,b,c = x[0], x[1], x[2]\n",
        "answer= [a[i] + b[i] + c[i] for i in range(len(a))]\n",
        "print(tuple(answer))\n"
      ],
      "execution_count": 6,
      "outputs": [
        {
          "output_type": "stream",
          "name": "stdout",
          "text": [
            "(4, 20)\n"
          ]
        }
      ]
    },
    {
      "cell_type": "markdown",
      "metadata": {
        "id": "enlKIJDkLIlX"
      },
      "source": [
        "## <font color=\"green\">3. Dictionary</font>"
      ]
    },
    {
      "cell_type": "markdown",
      "metadata": {
        "id": "coPqGYSBLIlX"
      },
      "source": [
        "### Exercise 3.1\n",
        "\n",
        "Write a program to merge several dictionaries into one. If the keys match, then leave the last encountered element."
      ]
    },
    {
      "cell_type": "code",
      "metadata": {
        "id": "it_ThaYBLIlY",
        "colab": {
          "base_uri": "https://localhost:8080/"
        },
        "outputId": "272f2aad-0a31-48b1-f507-9b228fd66788"
      },
      "source": [
        "dict_1 = {'key1': 10, 'key2': 20}\n",
        "dict_2 = {'key3': 30, 'key4': 40}\n",
        "dict_3 = {'key1': 50, 'key5': 60}\n",
        "\n",
        "dict_1.update(dict_2)\n",
        "dict_1.update(dict_3)\n",
        "print(dict_1)"
      ],
      "execution_count": 19,
      "outputs": [
        {
          "output_type": "stream",
          "name": "stdout",
          "text": [
            "{'key1': 50, 'key2': 20, 'key3': 30, 'key4': 40, 'key5': 60}\n"
          ]
        }
      ]
    },
    {
      "cell_type": "markdown",
      "metadata": {
        "id": "4K-2EegRLIlY"
      },
      "source": [
        "### Exercise 3.2\n",
        "\n",
        "Write a program to merge several dictionaries into one. If the keys match, then leave the first encountered element."
      ]
    },
    {
      "cell_type": "code",
      "metadata": {
        "id": "euYkiGj8LIlY",
        "colab": {
          "base_uri": "https://localhost:8080/"
        },
        "outputId": "a29a9233-5f40-4d26-85d6-0d7afc026d2d"
      },
      "source": [
        "dict_1 = {'key1': 10, 'key2': 20}\n",
        "dict_2 = {'key3': 30, 'key4': 40}\n",
        "dict_3 = {'key1': 50, 'key5': 60}\n",
        "\n",
        "def mergeDict(dict1, dict2):\n",
        "   dict_3 = {**dict_1, **dict_2}\n",
        "   for key, value in dict_3.items():\n",
        "       if key in dict_1 and key in dict_2:\n",
        "               dict_3[key] = [value , dict1[key]]\n",
        "   return dict_3\n",
        "finalDict = mergeDict(dict_3, mergeDict(dict_1, dict_2))\n",
        "print(finalDict)"
      ],
      "execution_count": 23,
      "outputs": [
        {
          "output_type": "stream",
          "name": "stdout",
          "text": [
            "{'key1': 10, 'key2': 20, 'key3': 30, 'key4': 40}\n"
          ]
        }
      ]
    },
    {
      "cell_type": "markdown",
      "metadata": {
        "id": "t2pv7UVeLIlY"
      },
      "source": [
        "### Exercise 3.3\n",
        "\n",
        "The input is a string `cleared_python_text`. Print the character dictionary of this string. The value is the number of occurrences. Don't use `collections`"
      ]
    },
    {
      "cell_type": "code",
      "metadata": {
        "id": "1tuOlPH7LIlY",
        "colab": {
          "base_uri": "https://localhost:8080/"
        },
        "outputId": "20213df5-009f-44e9-901e-346cb68097d3"
      },
      "source": [
        "# your code here\n",
        "letter_counts={}\n",
        "cleared_python_text = input()\n",
        "for c in cleared_python_text:\n",
        "  if c not in letter_counts:\n",
        "    letter_counts[c]=0\n",
        "  letter_counts[c]=letter_counts[c]+1\n",
        "print(letter_counts)"
      ],
      "execution_count": 35,
      "outputs": [
        {
          "output_type": "stream",
          "name": "stdout",
          "text": [
            "hello\n",
            "{'h': 1, 'e': 1, 'l': 2, 'o': 1}\n"
          ]
        }
      ]
    },
    {
      "cell_type": "markdown",
      "metadata": {
        "id": "spEaORSrLIlZ"
      },
      "source": [
        "### Exercise 3.4\n",
        "\n",
        "Create dictionary `{\"word\": occurrences}` from `python_words`. Print the most common word and the number of occurrences. Don't use `collections` "
      ]
    },
    {
      "cell_type": "code",
      "metadata": {
        "id": "V2LW4iaHLIlZ",
        "colab": {
          "base_uri": "https://localhost:8080/"
        },
        "outputId": "e57e9bf0-1828-45fb-e5d1-cf644c087d73"
      },
      "source": [
        "words = input().split()\n",
        "wordfreq = {}\n",
        "for i in words:\n",
        "    if i not in wordfreq:\n",
        "        wordfreq[i] = 0 \n",
        "    wordfreq[i] += 1\n",
        "print(wordfreq )"
      ],
      "execution_count": 36,
      "outputs": [
        {
          "output_type": "stream",
          "name": "stdout",
          "text": [
            "hello hello\n",
            "{'hello': 2}\n"
          ]
        }
      ]
    },
    {
      "cell_type": "markdown",
      "metadata": {
        "id": "e7LUMPmmLIlZ"
      },
      "source": [
        "## <font color=\"green\">4. Set</font>"
      ]
    },
    {
      "cell_type": "markdown",
      "metadata": {
        "id": "3a4LB09LLIlZ"
      },
      "source": [
        "### Exercise 4.1\n",
        "\n",
        "Input:\n",
        "\n",
        "a = [1, 1, 2, 3, 5, 8, 13, 21, 34, 55, 89];\n",
        "\n",
        "b = [1, 2, 3, 4, 5, 6, 7, 8, 9, 10, 11, 12, 13].\n",
        "\n",
        "Return set of common elements.\n",
        "\n",
        "Hint: theme name)\n"
      ]
    },
    {
      "cell_type": "code",
      "metadata": {
        "id": "isKHuX_Kv3IW",
        "colab": {
          "base_uri": "https://localhost:8080/"
        },
        "outputId": "ddadd695-989f-47f2-e409-788f18e01efe"
      },
      "source": [
        "a = [1, 1, 2, 3, 5, 8, 13, 21, 34, 55, 89]\n",
        "b = [1, 2, 3, 4, 5, 6, 7, 8, 9, 10, 11, 12, 13]\n",
        "x = [element for element in a if element in b]\n",
        "print(x)"
      ],
      "execution_count": 61,
      "outputs": [
        {
          "output_type": "stream",
          "name": "stdout",
          "text": [
            "[1, 1, 2, 3, 5, 8, 13]\n"
          ]
        }
      ]
    },
    {
      "cell_type": "markdown",
      "metadata": {
        "id": "4cJvpteELIlZ"
      },
      "source": [
        "### Exercise 4.2\n",
        "\n",
        "Generate random sequence `numbers` with 20 integers >=0 and < 100. Check if numbers are unic."
      ]
    },
    {
      "cell_type": "code",
      "metadata": {
        "id": "xyENsJSHLIlZ",
        "colab": {
          "base_uri": "https://localhost:8080/"
        },
        "outputId": "8c0fd1f3-8d51-48a7-ea40-3c5512d3c93d"
      },
      "source": [
        "from random import randint\n",
        "x = []\n",
        "for i in range(20):\n",
        "  n = random.randint(0,100)\n",
        "  x.append(n)\n",
        "print(x)\n",
        "\n",
        "if len(x) > len(set(x)):\n",
        "  print(\"true\")"
      ],
      "execution_count": 62,
      "outputs": [
        {
          "output_type": "stream",
          "name": "stdout",
          "text": [
            "[19, 84, 8, 43, 23, 33, 29, 7, 38, 73, 48, 5, 16, 46, 49, 30, 26, 69, 86, 58]\n"
          ]
        }
      ]
    },
    {
      "cell_type": "markdown",
      "metadata": {
        "id": "wyY-CaGnLIlZ"
      },
      "source": [
        "### Exercise 4.3\n",
        "\n",
        "Generate two lists like in the previous ex. Print all numbers that meet only once."
      ]
    },
    {
      "cell_type": "code",
      "metadata": {
        "id": "IaSk5w1MLIlZ",
        "colab": {
          "base_uri": "https://localhost:8080/"
        },
        "outputId": "79bb7bb6-67c1-4a1b-d474-e762a37fb353"
      },
      "source": [
        "from random import randint\n",
        "x = []\n",
        "y= []\n",
        "for i in range(20):\n",
        "  n = random.randint(0,100)\n",
        "  z = random.randint(0,100)\n",
        "  x.append(n)\n",
        "  y.append(z)\n",
        "print(x, y)\n",
        "\n",
        "for i in x:\n",
        "  if i not in y:\n",
        "    print(i)"
      ],
      "execution_count": 63,
      "outputs": [
        {
          "output_type": "stream",
          "name": "stdout",
          "text": [
            "[38, 11, 21, 31, 82, 59, 41, 59, 38, 59, 11, 60, 45, 35, 92, 36, 12, 12, 44, 57] [74, 41, 9, 95, 9, 86, 29, 18, 72, 70, 38, 39, 43, 36, 52, 26, 98, 4, 51, 57]\n",
            "11\n",
            "21\n",
            "31\n",
            "82\n",
            "59\n",
            "59\n",
            "59\n",
            "11\n",
            "60\n",
            "45\n",
            "35\n",
            "92\n",
            "12\n",
            "12\n",
            "44\n"
          ]
        }
      ]
    },
    {
      "cell_type": "markdown",
      "metadata": {
        "id": "cztT97avLIla"
      },
      "source": [
        "### Exercise 4.4\n",
        "\n",
        "Print min and max of the given set."
      ]
    },
    {
      "cell_type": "code",
      "metadata": {
        "id": "6xt0IguPLIla",
        "colab": {
          "base_uri": "https://localhost:8080/"
        },
        "outputId": "89277b54-e903-42c5-f056-32e6ba8104d7"
      },
      "source": [
        "my_set = {i ** 2 // 5 for i in range(100)}\n",
        "print(max(my_set), min(my_set))"
      ],
      "execution_count": 64,
      "outputs": [
        {
          "output_type": "stream",
          "name": "stdout",
          "text": [
            "1960 0\n"
          ]
        }
      ]
    },
    {
      "cell_type": "markdown",
      "metadata": {
        "id": "NHBp_qmULIla"
      },
      "source": [
        "## <font color=\"green\">5. Counter</font>"
      ]
    },
    {
      "cell_type": "code",
      "metadata": {
        "id": "gxjWwJnTy5aA"
      },
      "source": [
        "from collections import Counter"
      ],
      "execution_count": 68,
      "outputs": []
    },
    {
      "cell_type": "markdown",
      "metadata": {
        "id": "KiHEJRTPLIla"
      },
      "source": [
        "### Exercise 5.1\n",
        "\n",
        "Use Counter to do number 3.3\n"
      ]
    },
    {
      "cell_type": "code",
      "metadata": {
        "id": "TgDB2q_HLIla",
        "colab": {
          "base_uri": "https://localhost:8080/"
        },
        "outputId": "55c44a00-c001-47fa-eb9d-28f234df8dd8"
      },
      "source": [
        "word = input()\n",
        "Counter(word)"
      ],
      "execution_count": 69,
      "outputs": [
        {
          "name": "stdout",
          "output_type": "stream",
          "text": [
            "hello\n"
          ]
        },
        {
          "output_type": "execute_result",
          "data": {
            "text/plain": [
              "Counter({'e': 1, 'h': 1, 'l': 2, 'o': 1})"
            ]
          },
          "metadata": {},
          "execution_count": 69
        }
      ]
    },
    {
      "cell_type": "markdown",
      "metadata": {
        "id": "ypzIcg0bLIla"
      },
      "source": [
        "### Exercise 5.2\n",
        "\n",
        "Use Counter to do number 3.4"
      ]
    },
    {
      "cell_type": "code",
      "metadata": {
        "id": "SCFbJl4ILIla",
        "colab": {
          "base_uri": "https://localhost:8080/"
        },
        "outputId": "1ae5b971-64e2-41fe-922c-46e6aba1d876"
      },
      "source": [
        "words = input()\n",
        "myDict = Counter(words.split())\n",
        "print(myDict)"
      ],
      "execution_count": 71,
      "outputs": [
        {
          "output_type": "stream",
          "name": "stdout",
          "text": [
            "hello hello\n",
            "Counter({'hello': 2})\n"
          ]
        }
      ]
    }
  ]
}