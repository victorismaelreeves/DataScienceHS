{
  "nbformat": 4,
  "nbformat_minor": 0,
  "metadata": {
    "colab": {
      "name": "home_assignment_02",
      "provenance": [],
      "collapsed_sections": [],
      "include_colab_link": true
    },
    "kernelspec": {
      "name": "python3",
      "display_name": "Python 3"
    },
    "accelerator": "GPU"
  },
  "cells": [
    {
      "cell_type": "markdown",
      "metadata": {
        "id": "view-in-github",
        "colab_type": "text"
      },
      "source": [
        "<a href=\"https://colab.research.google.com/github/victorismaelreeves/DataScienceHS/blob/master/home_assignment_02.ipynb\" target=\"_parent\"><img src=\"https://colab.research.google.com/assets/colab-badge.svg\" alt=\"Open In Colab\"/></a>"
      ]
    },
    {
      "cell_type": "markdown",
      "metadata": {
        "id": "_9j_aLkqSrBi"
      },
      "source": [
        "To generate random data in Python using a [random](https://pynative.com/python/random/) module "
      ]
    },
    {
      "cell_type": "code",
      "metadata": {
        "id": "xMl6GayDUCB4"
      },
      "source": [
        "import random\n",
        "import math"
      ],
      "execution_count": null,
      "outputs": []
    },
    {
      "cell_type": "code",
      "metadata": {
        "colab": {
          "base_uri": "https://localhost:8080/"
        },
        "id": "iWcfhc6JhT4D",
        "outputId": "2e6d0280-d3a8-4742-aec4-2eb6e67e16cc"
      },
      "source": [
        "!python --version"
      ],
      "execution_count": null,
      "outputs": [
        {
          "output_type": "stream",
          "name": "stdout",
          "text": [
            "Python 3.7.12\n"
          ]
        }
      ]
    },
    {
      "cell_type": "markdown",
      "metadata": {
        "id": "QMlUzOq0oAI5"
      },
      "source": [
        "### Exercise 1\n",
        "You have a list a = [1, 1, 2, 3, 5, 6, 13, 21, 34, 55, 89].\n",
        "\n",
        "Print all even elements and sum."
      ]
    },
    {
      "cell_type": "code",
      "metadata": {
        "id": "rwJIfKOdnfGW"
      },
      "source": [
        "a = [1, 1, 2, 3, 5, 6, 13, 21, 34, 55, 89]\n",
        "# your code here"
      ],
      "execution_count": null,
      "outputs": []
    },
    {
      "cell_type": "markdown",
      "metadata": {
        "id": "0PxuwdtZoB9-"
      },
      "source": [
        "### Exercise 2\n",
        "Print a list that consists of the common elements of the two lists."
      ]
    },
    {
      "cell_type": "code",
      "metadata": {
        "id": "9T9ue6_h-RA0"
      },
      "source": [
        "a = [1, 1, 2, 3, 5, 6, 13, 21, 34, 55, 89]\n",
        "b = [1, 2, 3, 4, 5, 6, 7, 8, 9, 10, 11, 12, 13]\n",
        "# your code here"
      ],
      "execution_count": null,
      "outputs": []
    },
    {
      "cell_type": "markdown",
      "metadata": {
        "id": "D-7vU_xMoGXW"
      },
      "source": [
        "### Exercise 3\n",
        "Print the first n lines of [Pascal's triangle](https://en.wikipedia.org/wiki/Pascal%27s_triangle). The view can be not formatted, that is, just print lines from Pascal's triangle."
      ]
    },
    {
      "cell_type": "code",
      "metadata": {
        "id": "ORxlMF5XoHaf"
      },
      "source": [
        "n = int(input('Enter the number of lines: '))\n",
        "# your code here"
      ],
      "execution_count": null,
      "outputs": []
    },
    {
      "cell_type": "markdown",
      "metadata": {
        "id": "LZFh27IYoH-M"
      },
      "source": [
        "### Exercise 4\n",
        "Check if the string is a palindrome."
      ]
    },
    {
      "cell_type": "code",
      "metadata": {
        "id": "dbmC6TJNTERJ"
      },
      "source": [
        "string = input('Enter the string: ')\n",
        "# your code here"
      ],
      "execution_count": null,
      "outputs": []
    },
    {
      "cell_type": "markdown",
      "metadata": {
        "id": "0dG5QsDnoJw4"
      },
      "source": [
        "### Exercise 5\n",
        "Convert seconds to days:hours:minutes:seconds (without using datetime)"
      ]
    },
    {
      "cell_type": "code",
      "metadata": {
        "id": "riZL3l86TJ2Z"
      },
      "source": [
        "seconds = int(input(\"Number of seconds: \"))\n",
        "# your code here"
      ],
      "execution_count": null,
      "outputs": []
    },
    {
      "cell_type": "markdown",
      "metadata": {
        "id": "nBVW10zzoLN-"
      },
      "source": [
        "### Exercise 6\n",
        "You accept a comma-separated sequence of numbers from the user. Make a list and tuple of these numbers."
      ]
    },
    {
      "cell_type": "code",
      "metadata": {
        "id": "x--lqdQOoMSG"
      },
      "source": [
        "sequence = input(\"Enter the sequence: \")\n",
        "# your code here\n"
      ],
      "execution_count": null,
      "outputs": []
    },
    {
      "cell_type": "markdown",
      "metadata": {
        "id": "LX80ZS4VoMt_"
      },
      "source": [
        "### Exercise 7\n",
        "Print the first and last element of a list filled with N random integers."
      ]
    },
    {
      "cell_type": "code",
      "metadata": {
        "id": "O16WVyH2TfRO"
      },
      "source": [
        "N = int(input())\n",
        "# your code here\n"
      ],
      "execution_count": null,
      "outputs": []
    },
    {
      "cell_type": "markdown",
      "metadata": {
        "id": "RONwF247oOGw"
      },
      "source": [
        "### Exercise 8\n",
        "Print the file extension. If it cannot be determined, print \"no extension\"."
      ]
    },
    {
      "cell_type": "code",
      "metadata": {
        "id": "zXm-h5SlUPlF"
      },
      "source": [
        "filename = input('File name: \\n')\n",
        "# your code here"
      ],
      "execution_count": null,
      "outputs": []
    },
    {
      "cell_type": "markdown",
      "metadata": {
        "id": "Imewfx3UphZG"
      },
      "source": [
        "### Exercise 9\n",
        "Add up the digits of the given integer."
      ]
    },
    {
      "cell_type": "code",
      "metadata": {
        "id": "S0prYFkypjMD"
      },
      "source": [
        "x = 12345\n",
        "# your code here\n"
      ],
      "execution_count": null,
      "outputs": []
    },
    {
      "cell_type": "markdown",
      "metadata": {
        "id": "tx0wApZupk05"
      },
      "source": [
        "### Exercise 10\n",
        "Сreate two lists of size 20 containing random integers from the segment [0, 30], prints them to the screen and all elements of the first that are not in the second."
      ]
    },
    {
      "cell_type": "code",
      "metadata": {
        "id": "MkC_sLdRpoG7"
      },
      "source": [
        "# your code here\n",
        "# lst1 = \n",
        "# lst2 = \n",
        "   "
      ],
      "execution_count": null,
      "outputs": []
    },
    {
      "cell_type": "markdown",
      "metadata": {
        "id": "PO9NF3IBpoxz"
      },
      "source": [
        "### Exercise 11\n",
        "Find the number of divisors of a given integer."
      ]
    },
    {
      "cell_type": "code",
      "metadata": {
        "id": "6pqgc99LprzC"
      },
      "source": [
        "integer = int(input())\n",
        "# your code here\n"
      ],
      "execution_count": null,
      "outputs": []
    },
    {
      "cell_type": "markdown",
      "metadata": {
        "id": "0lMCVueRpsae"
      },
      "source": [
        "### Exercise 12\n",
        "Count input letter in the input string."
      ]
    },
    {
      "cell_type": "code",
      "metadata": {
        "id": "u-x80kjLQIVg"
      },
      "source": [
        "string = input('string: ')\n",
        "letter = input('letter: ')\n",
        "# your code here\n"
      ],
      "execution_count": null,
      "outputs": []
    },
    {
      "cell_type": "markdown",
      "metadata": {
        "id": "FF0C3-cTp0uy"
      },
      "source": [
        "### Exercise 13\n",
        "Just swap the values "
      ]
    },
    {
      "cell_type": "code",
      "metadata": {
        "id": "KRHJfO1dcwNr"
      },
      "source": [
        "var1 = input()\n",
        "var2 = input()\n",
        "# your code here\n"
      ],
      "execution_count": null,
      "outputs": []
    },
    {
      "cell_type": "markdown",
      "metadata": {
        "id": "I2x5B2_Np9kO"
      },
      "source": [
        "### Exercise 14\n",
        "You need to check if all the numbers in the sequence are unique. The sequence consists of integers entered from the keyboard. The end of the input is the `'#'` symbol."
      ]
    },
    {
      "cell_type": "code",
      "metadata": {
        "id": "gsiB8H61p_Bb"
      },
      "source": [
        "# your code here\n"
      ],
      "execution_count": null,
      "outputs": []
    },
    {
      "cell_type": "markdown",
      "metadata": {
        "id": "hiPumXgoZtPS"
      },
      "source": [
        "### Exercise 15\n",
        "\n",
        "Create two built-in frozenset objects from strings `'reversed question'` and `'answer'`, and try to make them keys in the dct dictionary for the strings `'? Tesnezorf dna tes neewteb ecnereffid niam eht si tahw'` and **`'<your answer to the question>'`**, respectively. There is no need to reverse the answer. Finally, print out the dct dictionary."
      ]
    },
    {
      "cell_type": "code",
      "metadata": {
        "id": "raWWJ0h_77_B"
      },
      "source": [
        "dct = {}"
      ],
      "execution_count": null,
      "outputs": []
    },
    {
      "cell_type": "code",
      "metadata": {
        "id": "1Jp2fm0jaChM"
      },
      "source": [
        "# your code here\n"
      ],
      "execution_count": null,
      "outputs": []
    },
    {
      "cell_type": "markdown",
      "metadata": {
        "id": "wIXXdtGdaMhF"
      },
      "source": [
        "### Exercise 16\n",
        "\n",
        "Find the area of a circle. You can use const `'pi'` from `'math'` module "
      ]
    },
    {
      "cell_type": "code",
      "metadata": {
        "id": "QGSPfMB-anqX"
      },
      "source": [
        "r = float(input())\n",
        "# your code here\n"
      ],
      "execution_count": null,
      "outputs": []
    },
    {
      "cell_type": "markdown",
      "metadata": {
        "id": "Dj3SgDdLahaZ"
      },
      "source": [
        "### Exercise 17\n",
        "\n",
        "Swap keys and values."
      ]
    },
    {
      "cell_type": "code",
      "metadata": {
        "id": "jVi685NrawKc",
        "colab": {
          "base_uri": "https://localhost:8080/"
        },
        "outputId": "bd0912e5-7e38-4ecc-981a-cc6242cdb5b0"
      },
      "source": [
        "dct = {x: x ** 2 for x in range(10)}\n",
        "dct\n",
        "# your code here\n"
      ],
      "execution_count": null,
      "outputs": [
        {
          "output_type": "execute_result",
          "data": {
            "text/plain": [
              "{0: 0, 1: 1, 2: 4, 3: 9, 4: 16, 5: 25, 6: 36, 7: 49, 8: 64, 9: 81}"
            ]
          },
          "metadata": {},
          "execution_count": 15
        }
      ]
    },
    {
      "cell_type": "markdown",
      "metadata": {
        "id": "bSkROdzbbDPT"
      },
      "source": [
        "### Exercise 18\n",
        "\n",
        "Create a variable that stores the description of this task as a string, separate the words, and convert to LOWERCASE."
      ]
    },
    {
      "cell_type": "code",
      "metadata": {
        "id": "QLQuRJ5fbHyG"
      },
      "source": [
        "# your code here\n"
      ],
      "execution_count": null,
      "outputs": []
    },
    {
      "cell_type": "markdown",
      "metadata": {
        "id": "xDwSLToobQIJ"
      },
      "source": [
        "### Exercise 19\n",
        "Print the sorted words from the previous exercise in reverse lexicographical order."
      ]
    },
    {
      "cell_type": "code",
      "metadata": {
        "id": "QqEMRS9NbST0"
      },
      "source": [
        "# your code here\n"
      ],
      "execution_count": null,
      "outputs": []
    },
    {
      "cell_type": "markdown",
      "metadata": {
        "id": "rO-Amdrhbfc5"
      },
      "source": [
        "### Exercise 20\n",
        "\n",
        "Write code that reverses all odd-numbered elements of lst in reverse order.\n",
        "\n",
        "That is, if lst = [0, 1, 2, 3, 4, 5, 6, 7, 8, 9], then you should get [0, 9, 2, 7, 4, 5, 6, 3, 8, 1]"
      ]
    },
    {
      "cell_type": "code",
      "metadata": {
        "id": "e3SdQqGLbnI9"
      },
      "source": [
        "# your code here\n"
      ],
      "execution_count": null,
      "outputs": []
    }
  ]
}