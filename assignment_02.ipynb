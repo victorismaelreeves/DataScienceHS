{
  "nbformat": 4,
  "nbformat_minor": 0,
  "metadata": {
    "colab": {
      "name": "Copy of home_assignment_02",
      "provenance": [],
      "collapsed_sections": [],
      "include_colab_link": true
    },
    "kernelspec": {
      "name": "python3",
      "display_name": "Python 3"
    },
    "accelerator": "GPU"
  },
  "cells": [
    {
      "cell_type": "markdown",
      "metadata": {
        "id": "view-in-github",
        "colab_type": "text"
      },
      "source": [
        "<a href=\"https://colab.research.google.com/github/victorismaelreeves/DataScienceHS/blob/master/assignment_02.ipynb\" target=\"_parent\"><img src=\"https://colab.research.google.com/assets/colab-badge.svg\" alt=\"Open In Colab\"/></a>"
      ]
    },
    {
      "cell_type": "markdown",
      "metadata": {
        "id": "_9j_aLkqSrBi"
      },
      "source": [
        "To generate random data in Python using a [random](https://pynative.com/python/random/) module "
      ]
    },
    {
      "cell_type": "code",
      "metadata": {
        "id": "xMl6GayDUCB4"
      },
      "source": [
        "import random\n",
        "import math"
      ],
      "execution_count": 26,
      "outputs": []
    },
    {
      "cell_type": "code",
      "metadata": {
        "colab": {
          "base_uri": "https://localhost:8080/"
        },
        "id": "iWcfhc6JhT4D",
        "outputId": "84febd73-0d5b-4435-e15a-1378b197f772"
      },
      "source": [
        "!python --version"
      ],
      "execution_count": 27,
      "outputs": [
        {
          "output_type": "stream",
          "name": "stdout",
          "text": [
            "Python 3.7.12\n"
          ]
        }
      ]
    },
    {
      "cell_type": "markdown",
      "metadata": {
        "id": "QMlUzOq0oAI5"
      },
      "source": [
        "### Exercise 1\n",
        "You have a list a = [1, 1, 2, 3, 5, 6, 13, 21, 34, 55, 89].\n",
        "\n",
        "Print all even elements and sum."
      ]
    },
    {
      "cell_type": "code",
      "metadata": {
        "id": "rwJIfKOdnfGW",
        "colab": {
          "base_uri": "https://localhost:8080/"
        },
        "outputId": "e9b71d8b-1bbd-4021-c104-c30ed65fadb6"
      },
      "source": [
        "a = [1, 1, 2, 3, 5, 6, 13, 21, 34, 55, 89]\n",
        "for i in a:\n",
        "  if i % 2 == 0:\n",
        "    print(i)\n",
        "print(sum(a))"
      ],
      "execution_count": 94,
      "outputs": [
        {
          "output_type": "stream",
          "name": "stdout",
          "text": [
            "2\n",
            "6\n",
            "34\n",
            "230\n"
          ]
        }
      ]
    },
    {
      "cell_type": "markdown",
      "metadata": {
        "id": "0PxuwdtZoB9-"
      },
      "source": [
        "### Exercise 2\n",
        "Print a list that consists of the common elements of the two lists."
      ]
    },
    {
      "cell_type": "code",
      "metadata": {
        "id": "9T9ue6_h-RA0",
        "colab": {
          "base_uri": "https://localhost:8080/"
        },
        "outputId": "7178c25c-e252-4092-e8cf-ee00294bb7aa"
      },
      "source": [
        "a = [1, 1, 2, 3, 5, 6, 13, 21, 34, 55, 89]\n",
        "b = [1, 2, 3, 4, 5, 6, 7, 8, 9, 10, 11, 12, 13]\n",
        "c = []\n",
        "for i in a:\n",
        "  if i in b:\n",
        "    c.append(i)\n",
        "print(c)\n",
        "# your code here"
      ],
      "execution_count": 7,
      "outputs": [
        {
          "output_type": "stream",
          "name": "stdout",
          "text": [
            "[1, 1, 2, 3, 5, 6, 13]\n"
          ]
        }
      ]
    },
    {
      "cell_type": "markdown",
      "metadata": {
        "id": "D-7vU_xMoGXW"
      },
      "source": [
        "### Exercise 3\n",
        "Print the first n lines of [Pascal's triangle](https://en.wikipedia.org/wiki/Pascal%27s_triangle). The view can be not formatted, that is, just print lines from Pascal's triangle."
      ]
    },
    {
      "cell_type": "code",
      "metadata": {
        "id": "ORxlMF5XoHaf",
        "colab": {
          "base_uri": "https://localhost:8080/"
        },
        "outputId": "94bdd64d-72c4-43d5-85a6-301b5a7838a9"
      },
      "source": [
        "n = int(input('Enter the number of lines: '))\n",
        "triangle = [1]\n",
        "y = [0]\n",
        "for x in range(n):\n",
        "  print(triangle)\n",
        "  triangle=[l+r for l,r in zip(triangle+y, triangle+trow)]"
      ],
      "execution_count": 12,
      "outputs": [
        {
          "output_type": "stream",
          "name": "stdout",
          "text": [
            "Enter the number of lines: 6\n",
            "[1]\n",
            "[2, 1]\n",
            "[4, 2, 1]\n",
            "[8, 4, 2, 1]\n",
            "[16, 8, 4, 2, 1]\n",
            "[32, 16, 8, 4, 2, 1]\n"
          ]
        }
      ]
    },
    {
      "cell_type": "markdown",
      "metadata": {
        "id": "LZFh27IYoH-M"
      },
      "source": [
        "### Exercise 4\n",
        "Check if the string is a palindrome."
      ]
    },
    {
      "cell_type": "code",
      "metadata": {
        "id": "dbmC6TJNTERJ",
        "colab": {
          "base_uri": "https://localhost:8080/"
        },
        "outputId": "f2f3968d-177f-482f-b21d-3631065f941a"
      },
      "source": [
        "string = input('Enter the string: ')\n",
        "if string == string[::-1]:\n",
        "  print(\"true\")"
      ],
      "execution_count": 16,
      "outputs": [
        {
          "output_type": "stream",
          "name": "stdout",
          "text": [
            "Enter the string: anna\n",
            "true\n"
          ]
        }
      ]
    },
    {
      "cell_type": "markdown",
      "metadata": {
        "id": "0dG5QsDnoJw4"
      },
      "source": [
        "### Exercise 5\n",
        "Convert seconds to days:hours:minutes:seconds (without using datetime)"
      ]
    },
    {
      "cell_type": "code",
      "metadata": {
        "id": "riZL3l86TJ2Z",
        "colab": {
          "base_uri": "https://localhost:8080/"
        },
        "outputId": "57ec9ef2-adb5-4472-f402-edeab32784c6"
      },
      "source": [
        "seconds = int(input(\"Number of seconds: \"))\n",
        "seconds_in_day = 60 * 60 * 24\n",
        "seconds_in_hour = 60 * 60\n",
        "seconds_in_minute = 60\n",
        "\n",
        "days = seconds // seconds_in_day\n",
        "hours = (seconds - (days * seconds_in_day)) // seconds_in_hour\n",
        "minutes = (seconds - (days * seconds_in_day) - (hours * seconds_in_hour)) // seconds_in_minute\n",
        "print(days, hours, minutes, seconds)\n"
      ],
      "execution_count": 17,
      "outputs": [
        {
          "output_type": "stream",
          "name": "stdout",
          "text": [
            "Number of seconds: 26665\n",
            "0 7 24 26665\n"
          ]
        }
      ]
    },
    {
      "cell_type": "markdown",
      "metadata": {
        "id": "nBVW10zzoLN-"
      },
      "source": [
        "### Exercise 6\n",
        "You accept a comma-separated sequence of numbers from the user. Make a list and tuple of these numbers."
      ]
    },
    {
      "cell_type": "code",
      "metadata": {
        "id": "x--lqdQOoMSG",
        "colab": {
          "base_uri": "https://localhost:8080/"
        },
        "outputId": "a65526d5-0aba-421c-8182-171d306cf07d"
      },
      "source": [
        "sequence = input(\"Enter the sequence: \")\n",
        "joined_string = sequence.split(\",\")\n",
        "\n",
        "print(joined_string, tuple(joined_string))\n"
      ],
      "execution_count": 24,
      "outputs": [
        {
          "output_type": "stream",
          "name": "stdout",
          "text": [
            "Enter the sequence: 1,2,3,4,5\n",
            "['1', '2', '3', '4', '5'] ('1', '2', '3', '4', '5')\n"
          ]
        }
      ]
    },
    {
      "cell_type": "markdown",
      "metadata": {
        "id": "LX80ZS4VoMt_"
      },
      "source": [
        "### Exercise 7\n",
        "Print the first and last element of a list filled with N random integers."
      ]
    },
    {
      "cell_type": "code",
      "metadata": {
        "id": "O16WVyH2TfRO",
        "colab": {
          "base_uri": "https://localhost:8080/"
        },
        "outputId": "96e791ca-0a9e-45ab-bf78-d9c353a0d413"
      },
      "source": [
        "from random import randint\n",
        "N = int(input())\n",
        "x = []\n",
        "for i in range(N):\n",
        "  x.append(randint(0, 10))\n",
        "print(x)\n"
      ],
      "execution_count": 30,
      "outputs": [
        {
          "output_type": "stream",
          "name": "stdout",
          "text": [
            "6\n",
            "[2, 4, 1, 5, 6, 9]\n"
          ]
        }
      ]
    },
    {
      "cell_type": "markdown",
      "metadata": {
        "id": "RONwF247oOGw"
      },
      "source": [
        "### Exercise 8\n",
        "Print the file extension. If it cannot be determined, print \"no extension\"."
      ]
    },
    {
      "cell_type": "code",
      "metadata": {
        "id": "zXm-h5SlUPlF",
        "colab": {
          "base_uri": "https://localhost:8080/"
        },
        "outputId": "dbd2e2d2-178e-4d38-8872-d84d626cc19f"
      },
      "source": [
        "import os\n",
        "filename = input('File name: \\n')\n",
        "name, file_extension = os.path.splitext(filename)\n",
        "print(file_extension)"
      ],
      "execution_count": 32,
      "outputs": [
        {
          "output_type": "stream",
          "name": "stdout",
          "text": [
            "File name: \n",
            "hello.txt\n",
            ".txt\n"
          ]
        }
      ]
    },
    {
      "cell_type": "markdown",
      "metadata": {
        "id": "Imewfx3UphZG"
      },
      "source": [
        "### Exercise 9\n",
        "Add up the digits of the given integer."
      ]
    },
    {
      "cell_type": "code",
      "metadata": {
        "id": "S0prYFkypjMD",
        "colab": {
          "base_uri": "https://localhost:8080/"
        },
        "outputId": "3dbaf1f6-8672-4e9e-ec22-7127149e964a"
      },
      "source": [
        "x = 12345\n",
        "y = 0\n",
        "for digit in str(x):\n",
        "  y += int(digit)\n",
        "print(y)\n",
        " "
      ],
      "execution_count": 36,
      "outputs": [
        {
          "output_type": "stream",
          "name": "stdout",
          "text": [
            "15\n"
          ]
        }
      ]
    },
    {
      "cell_type": "markdown",
      "metadata": {
        "id": "tx0wApZupk05"
      },
      "source": [
        "### Exercise 10\n",
        "Сreate two lists of size 20 containing random integers from the segment [0, 30], prints them to the screen and all elements of the first that are not in the second."
      ]
    },
    {
      "cell_type": "code",
      "metadata": {
        "id": "MkC_sLdRpoG7",
        "colab": {
          "base_uri": "https://localhost:8080/"
        },
        "outputId": "d07f37a0-0b74-4564-fadd-1b623e32f576"
      },
      "source": [
        "import random\n",
        "lst1 = [random.randint(0,30) for i in range(20)]\n",
        "lst2 = [random.randint(0,30) for i in range(20)]\n",
        "for i in lst1:\n",
        "  if i not in lst2:\n",
        "    print(i)\n",
        "print(lst1, lst2)"
      ],
      "execution_count": 41,
      "outputs": [
        {
          "output_type": "stream",
          "name": "stdout",
          "text": [
            "5\n",
            "9\n",
            "24\n",
            "27\n",
            "17\n",
            "27\n",
            "28\n",
            "15\n",
            "17\n",
            "11\n",
            "22\n",
            "23\n",
            "24\n",
            "1\n",
            "[16, 5, 9, 14, 24, 27, 17, 27, 28, 18, 15, 21, 25, 16, 17, 11, 22, 23, 24, 1] [16, 26, 19, 25, 7, 18, 4, 14, 21, 30, 19, 30, 19, 29, 8, 0, 21, 16, 10, 26]\n"
          ]
        }
      ]
    },
    {
      "cell_type": "markdown",
      "metadata": {
        "id": "PO9NF3IBpoxz"
      },
      "source": [
        "### Exercise 11\n",
        "Find the number of divisors of a given integer."
      ]
    },
    {
      "cell_type": "code",
      "metadata": {
        "id": "6pqgc99LprzC",
        "colab": {
          "base_uri": "https://localhost:8080/"
        },
        "outputId": "e7bba9b0-a102-4387-a962-2e28d6b0e421"
      },
      "source": [
        "integer = int(input())\n",
        "x = len([i for i in range(1,integer+1) if not integer % i])\n",
        "print(x)"
      ],
      "execution_count": 45,
      "outputs": [
        {
          "output_type": "stream",
          "name": "stdout",
          "text": [
            "7\n",
            "2\n"
          ]
        }
      ]
    },
    {
      "cell_type": "markdown",
      "metadata": {
        "id": "0lMCVueRpsae"
      },
      "source": [
        "### Exercise 12\n",
        "Count input letter in the input string."
      ]
    },
    {
      "cell_type": "code",
      "metadata": {
        "id": "u-x80kjLQIVg",
        "colab": {
          "base_uri": "https://localhost:8080/"
        },
        "outputId": "da87d86f-8ff2-4972-f283-67444b70cb30"
      },
      "source": [
        "string = input('string: ')\n",
        "letter = input('letter: ')\n",
        "string.count(letter)\n"
      ],
      "execution_count": 46,
      "outputs": [
        {
          "name": "stdout",
          "output_type": "stream",
          "text": [
            "string: hello\n",
            "letter: l\n"
          ]
        },
        {
          "output_type": "execute_result",
          "data": {
            "text/plain": [
              "2"
            ]
          },
          "metadata": {},
          "execution_count": 46
        }
      ]
    },
    {
      "cell_type": "markdown",
      "metadata": {
        "id": "FF0C3-cTp0uy"
      },
      "source": [
        "### Exercise 13\n",
        "Just swap the values "
      ]
    },
    {
      "cell_type": "code",
      "metadata": {
        "id": "KRHJfO1dcwNr",
        "colab": {
          "base_uri": "https://localhost:8080/"
        },
        "outputId": "75311966-7408-4529-e3cf-9721480ceb5c"
      },
      "source": [
        "var1 = input()\n",
        "var2 = input()\n",
        "var1, var2 = var2, var1\n",
        "print(var1, var2)\n"
      ],
      "execution_count": 47,
      "outputs": [
        {
          "output_type": "stream",
          "name": "stdout",
          "text": [
            "1\n",
            "2\n",
            "2 1\n"
          ]
        }
      ]
    },
    {
      "cell_type": "markdown",
      "metadata": {
        "id": "I2x5B2_Np9kO"
      },
      "source": [
        "### Exercise 14\n",
        "You need to check if all the numbers in the sequence are unique. The sequence consists of integers entered from the keyboard. The end of the input is the `'#'` symbol."
      ]
    },
    {
      "cell_type": "code",
      "metadata": {
        "id": "gsiB8H61p_Bb",
        "colab": {
          "base_uri": "https://localhost:8080/"
        },
        "outputId": "ffe524ec-711a-4c91-b59a-61ee978d39d7"
      },
      "source": [
        "sequence = input()\n",
        "if len(sequence) == len(set(sequence)):\n",
        "  print(\"yes\")\n",
        "else:\n",
        "  print(\"NO\")"
      ],
      "execution_count": 52,
      "outputs": [
        {
          "output_type": "stream",
          "name": "stdout",
          "text": [
            "12345678#\n",
            "yes\n"
          ]
        }
      ]
    },
    {
      "cell_type": "markdown",
      "metadata": {
        "id": "hiPumXgoZtPS"
      },
      "source": [
        "### Exercise 15\n",
        "\n",
        "Create two built-in frozenset objects from strings `'reversed question'` and `'answer'`, and try to make them keys in the dct dictionary for the strings `'? Tesnezorf dna tes neewteb ecnereffid niam eht si tahw'` and **`'<your answer to the question>'`**, respectively. There is no need to reverse the answer. Finally, print out the dct dictionary."
      ]
    },
    {
      "cell_type": "code",
      "metadata": {
        "id": "raWWJ0h_77_B"
      },
      "source": [
        "dct = {}"
      ],
      "execution_count": 54,
      "outputs": []
    },
    {
      "cell_type": "code",
      "metadata": {
        "id": "1Jp2fm0jaChM",
        "colab": {
          "base_uri": "https://localhost:8080/"
        },
        "outputId": "d26ebd17-8f90-4c5a-b27a-15b480c0f294"
      },
      "source": [
        "x = frozenset('? Tesnezorf dna tes neewteb ecnereffid niam eht si tahw')\n",
        "y = frozenset(input())\n",
        "dct[\"reversed question\"]=x\n",
        "dct[\"answer\"]=y\n",
        "print(dct)"
      ],
      "execution_count": 56,
      "outputs": [
        {
          "output_type": "stream",
          "name": "stdout",
          "text": [
            "answers is here\n",
            "{'reversed question': frozenset({'i', 'b', ' ', '?', 'c', 'o', 'w', 'r', 'm', 'z', 's', 'n', 'T', 'a', 'e', 'f', 'd', 't', 'h'}), 'answer': frozenset({'w', 'a', 'e', 'r', 'i', 'h', ' ', 'n', 's'})}\n"
          ]
        }
      ]
    },
    {
      "cell_type": "markdown",
      "metadata": {
        "id": "wIXXdtGdaMhF"
      },
      "source": [
        "### Exercise 16\n",
        "\n",
        "Find the area of a circle. You can use const `'pi'` from `'math'` module "
      ]
    },
    {
      "cell_type": "code",
      "metadata": {
        "id": "QGSPfMB-anqX",
        "colab": {
          "base_uri": "https://localhost:8080/"
        },
        "outputId": "116db568-b049-4da1-8bd5-8da1ae7bc01d"
      },
      "source": [
        "from math import pi\n",
        "r = float(input())\n",
        "PI = pi\n",
        "area = PI * r * r\n",
        "print(area)\n"
      ],
      "execution_count": 57,
      "outputs": [
        {
          "output_type": "stream",
          "name": "stdout",
          "text": [
            "5\n",
            "78.53981633974483\n"
          ]
        }
      ]
    },
    {
      "cell_type": "markdown",
      "metadata": {
        "id": "Dj3SgDdLahaZ"
      },
      "source": [
        "### Exercise 17\n",
        "\n",
        "Swap keys and values."
      ]
    },
    {
      "cell_type": "code",
      "metadata": {
        "id": "jVi685NrawKc",
        "colab": {
          "base_uri": "https://localhost:8080/"
        },
        "outputId": "2c51a288-b558-48af-9fd1-b338dd5c1140"
      },
      "source": [
        "dct = {x: x ** 2 for x in range(10)}\n",
        "res = dict((x,y) for y,x in dct.items())\n",
        "print(res)\n"
      ],
      "execution_count": 58,
      "outputs": [
        {
          "output_type": "stream",
          "name": "stdout",
          "text": [
            "{0: 0, 1: 1, 4: 2, 9: 3, 16: 4, 25: 5, 36: 6, 49: 7, 64: 8, 81: 9}\n"
          ]
        }
      ]
    },
    {
      "cell_type": "markdown",
      "metadata": {
        "id": "bSkROdzbbDPT"
      },
      "source": [
        "### Exercise 18\n",
        "\n",
        "Create a variable that stores the description of this task as a string, separate the words, and convert to LOWERCASE."
      ]
    },
    {
      "cell_type": "code",
      "metadata": {
        "id": "QLQuRJ5fbHyG",
        "colab": {
          "base_uri": "https://localhost:8080/"
        },
        "outputId": "6c4ca712-f3de-419e-f496-e44d8cbdf591"
      },
      "source": [
        "x = \"Create a variable that stores the description of this task as a string, separate the words, and convert to LOWERCASE\"\n",
        "y = x.split()\n",
        "print(list(map(lambda i: i.lower(), y)))\n"
      ],
      "execution_count": 67,
      "outputs": [
        {
          "output_type": "stream",
          "name": "stdout",
          "text": [
            "['create', 'a', 'variable', 'that', 'stores', 'the', 'description', 'of', 'this', 'task', 'as', 'a', 'string,', 'separate', 'the', 'words,', 'and', 'convert', 'to', 'lowercase']\n",
            "['Create', 'a', 'variable', 'that', 'stores', 'the', 'description', 'of', 'this', 'task', 'as', 'a', 'string,', 'separate', 'the', 'words,', 'and', 'convert', 'to', 'LOWERCASE']\n"
          ]
        }
      ]
    },
    {
      "cell_type": "markdown",
      "metadata": {
        "id": "xDwSLToobQIJ"
      },
      "source": [
        "### Exercise 19\n",
        "Print the sorted words from the previous exercise in reverse lexicographical order."
      ]
    },
    {
      "cell_type": "code",
      "metadata": {
        "id": "QqEMRS9NbST0",
        "colab": {
          "base_uri": "https://localhost:8080/"
        },
        "outputId": "59d83267-5db5-4ced-85d9-33ee1e8a25a7"
      },
      "source": [
        "y.sort(reverse=True)\n",
        "print(y)"
      ],
      "execution_count": 69,
      "outputs": [
        {
          "output_type": "stream",
          "name": "stdout",
          "text": [
            "['words,', 'variable', 'to', 'this', 'the', 'the', 'that', 'task', 'string,', 'stores', 'separate', 'of', 'description', 'convert', 'as', 'and', 'a', 'a', 'LOWERCASE', 'Create']\n"
          ]
        }
      ]
    },
    {
      "cell_type": "markdown",
      "metadata": {
        "id": "rO-Amdrhbfc5"
      },
      "source": [
        "### Exercise 20\n",
        "\n",
        "Write code that reverses all odd-numbered elements of lst in reverse order.\n",
        "\n",
        "That is, if lst = [0, 1, 2, 3, 4, 5, 6, 7, 8, 9], then you should get [0, 9, 2, 7, 4, 5, 6, 3, 8, 1]"
      ]
    },
    {
      "cell_type": "code",
      "metadata": {
        "id": "e3SdQqGLbnI9",
        "colab": {
          "base_uri": "https://localhost:8080/"
        },
        "outputId": "8c798249-6e3f-480b-c9e7-68a32757001d"
      },
      "source": [
        "lst = [0, 1, 2, 3, 4, 5, 6, 7, 8, 9]\n",
        "\n",
        "for i in lst:\n",
        "  if i // 2 != 0:\n",
        "    lst[i], lst[-i] = lst[-i], lst[i]\n",
        "\n",
        "print(lst)"
      ],
      "execution_count": 87,
      "outputs": [
        {
          "output_type": "stream",
          "name": "stdout",
          "text": [
            "[0, 9, 2, 3, 4, 5, 6, 7, 8, 1]\n"
          ]
        }
      ]
    }
  ]
}