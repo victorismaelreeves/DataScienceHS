{
  "nbformat": 4,
  "nbformat_minor": 0,
  "metadata": {
    "colab": {
      "name": "Assignment4.ipynb",
      "provenance": [],
      "collapsed_sections": [],
      "include_colab_link": true
    },
    "kernelspec": {
      "display_name": "Python 3 (ipykernel)",
      "language": "python",
      "name": "python3"
    },
    "language_info": {
      "codemirror_mode": {
        "name": "ipython",
        "version": 3
      },
      "file_extension": ".py",
      "mimetype": "text/x-python",
      "name": "python",
      "nbconvert_exporter": "python",
      "pygments_lexer": "ipython3",
      "version": "3.8.12"
    }
  },
  "cells": [
    {
      "cell_type": "markdown",
      "metadata": {
        "id": "view-in-github",
        "colab_type": "text"
      },
      "source": [
        "<a href=\"https://colab.research.google.com/github/victorismaelreeves/DataScienceHS/blob/master/Assignment4.ipynb\" target=\"_parent\"><img src=\"https://colab.research.google.com/assets/colab-badge.svg\" alt=\"Open In Colab\"/></a>"
      ]
    },
    {
      "cell_type": "markdown",
      "metadata": {
        "id": "hia1cPPnbt-6"
      },
      "source": [
        "## Exercise 0\n",
        "\n",
        "Write your own simple function with simple documentation and all types of arguments (positional, positional with defaults, arbitrary args, keyword args, arbitrary keyword args)"
      ]
    },
    {
      "cell_type": "code",
      "metadata": {
        "id": "82YW6fgZbppO",
        "colab": {
          "base_uri": "https://localhost:8080/"
        },
        "outputId": "4f9f85be-e535-4757-95e2-fb9fd9b3f934"
      },
      "source": [
        "\n",
        "def add(a,b=5,c=10):\n",
        "    return (a+b+c)\n",
        "#mandatory arguments\n",
        "print(add(3))\n",
        "#positional arguments\n",
        "print(add(3,4))\n",
        "#keyword arguments\n",
        "print(add(b=10,c=15,a=20))\n",
        "def add2(a,b,c):\n",
        "    return (a+b+c)\n",
        "print(add(10,c=30,b=20))\n",
        "#arbitrary positional arguments\n",
        "def add(*b):\n",
        "    result=0\n",
        "    for i in b:\n",
        "         result=result+i\n",
        "    return result\n",
        "#arbitrary keyword arguments\n",
        "def fn(**a):\n",
        "    for i in a.items():\n",
        "        print (i)\n",
        "fn(numbers=5,colors=\"blue\",fruits=\"apple\")\n",
        "#keyword only arguements\n",
        "def add(a,b,*,c,d):\n",
        "    return a+b+c+d\n",
        "    \n",
        "add.__doc__ = \"a simple add function with simple doccumentation using doc strings\"\n",
        "help(add)"
      ],
      "execution_count": 11,
      "outputs": [
        {
          "output_type": "stream",
          "name": "stdout",
          "text": [
            "18\n",
            "17\n",
            "45\n",
            "60\n",
            "('numbers', 5)\n",
            "('colors', 'blue')\n",
            "('fruits', 'apple')\n",
            "Help on function add in module __main__:\n",
            "\n",
            "add(a, b, *, c, d)\n",
            "    a simple add function with simple doccumentation using doc strings\n",
            "\n"
          ]
        }
      ]
    },
    {
      "cell_type": "markdown",
      "metadata": {
        "id": "HYhlKVnwTYzD"
      },
      "source": [
        "## Exercise 1\n"
      ]
    },
    {
      "cell_type": "code",
      "metadata": {
        "id": "gv_TvLaHTXh8",
        "colab": {
          "base_uri": "https://localhost:8080/"
        },
        "outputId": "5dd9ca78-cbd1-4167-ec51-f331eb7a92d9"
      },
      "source": [
        "y = int(input())\n",
        "\n",
        "def is_prime(x):  \n",
        "    if x < 2:  \n",
        "        return False  \n",
        "    for n in range(2, (x) - 1):  \n",
        "        if x % n == 0:  \n",
        "            return False  \n",
        "    return True\n",
        "\n",
        "is_prime(y)"
      ],
      "execution_count": 18,
      "outputs": [
        {
          "name": "stdout",
          "output_type": "stream",
          "text": [
            "11\n"
          ]
        },
        {
          "output_type": "execute_result",
          "data": {
            "text/plain": [
              "True"
            ]
          },
          "metadata": {},
          "execution_count": 18
        }
      ]
    },
    {
      "cell_type": "markdown",
      "metadata": {
        "id": "1FXsMX-RKOBG"
      },
      "source": [
        "## Exercise 2\n",
        "\n",
        "[Inspect](https://docs.python.org/3.7/library/inspect.html) will help you. Use `my_function` for tests.\n",
        "\n"
      ]
    },
    {
      "cell_type": "code",
      "metadata": {
        "id": "g68Y9DfNQcYD",
        "colab": {
          "base_uri": "https://localhost:8080/"
        },
        "outputId": "c29738ba-3554-41e0-d7e3-6be6d2773b89"
      },
      "source": [
        "import inspect\n",
        "\n",
        "def inspect_function(func):\n",
        "    return inspect.getfullargspec(func), inspect.signature(func)\n",
        "    \n",
        "inspect_function(add)"
      ],
      "execution_count": 8,
      "outputs": [
        {
          "output_type": "execute_result",
          "data": {
            "text/plain": [
              "(FullArgSpec(args=['a', 'b'], varargs=None, varkw=None, defaults=None, kwonlyargs=['c', 'd'], kwonlydefaults=None, annotations={}),\n",
              " <Signature (a, b, *, c, d)>)"
            ]
          },
          "metadata": {},
          "execution_count": 8
        }
      ]
    },
    {
      "cell_type": "markdown",
      "metadata": {
        "id": "oRaKEc0ZIgNs"
      },
      "source": [
        "## Exercise 3"
      ]
    },
    {
      "cell_type": "markdown",
      "metadata": {
        "id": "xmdOYiCrGpUd"
      },
      "source": [
        "The `my_time_now` function is not working correctly. Correct it so that it displays the current time with a message. "
      ]
    },
    {
      "cell_type": "code",
      "metadata": {
        "id": "645BoTXIGnHr"
      },
      "source": [
        "from datetime import datetime\n",
        "from time import sleep\n",
        " \n",
        "# wrong function\n",
        "def my_time_now(msg):\n",
        "    print(msg, datetime.now())\n",
        " \n"
      ],
      "execution_count": 51,
      "outputs": []
    },
    {
      "cell_type": "code",
      "metadata": {
        "id": "3NeyF9UJHeyd",
        "colab": {
          "base_uri": "https://localhost:8080/"
        },
        "outputId": "1a663abc-dbf9-4ed2-f1b2-fbd025a28d97"
      },
      "source": [
        "# simple tests :)\n",
        "my_time_now('The time is now: ')\n",
        "sleep(1)\n",
        "my_time_now('The time is now: ')\n",
        "sleep(1)\n",
        "my_time_now('The time is now: ')"
      ],
      "execution_count": 52,
      "outputs": [
        {
          "output_type": "stream",
          "name": "stdout",
          "text": [
            "The time is now:  2021-11-28 23:21:06.330784\n",
            "The time is now:  2021-11-28 23:21:07.333264\n",
            "The time is now:  2021-11-28 23:21:08.334708\n"
          ]
        }
      ]
    },
    {
      "cell_type": "markdown",
      "metadata": {
        "id": "Qap8_Jb2ENra"
      },
      "source": [
        "## Exercise 4"
      ]
    },
    {
      "cell_type": "code",
      "metadata": {
        "id": "JBwZGo84EMW1",
        "colab": {
          "base_uri": "https://localhost:8080/"
        },
        "outputId": "647ae83f-3859-4cd8-d667-fc41855e096a"
      },
      "source": [
        "def input_generator():\n",
        "     number = 0\n",
        "     while True:\n",
        "         yield number\n",
        "         number += 1\n",
        "\n",
        "myGenerator = input_generator()\n",
        "\n",
        "def limit(input_generator, max_count):\n",
        "  counter = 0\n",
        "  while counter < max_count:\n",
        "      print(next(myGenerator))\n",
        "      counter += 1\n",
        "\n",
        "limit(input_generator, 11)"
      ],
      "execution_count": 90,
      "outputs": [
        {
          "output_type": "stream",
          "name": "stdout",
          "text": [
            "0\n",
            "1\n",
            "2\n",
            "3\n",
            "4\n",
            "5\n",
            "6\n",
            "7\n",
            "8\n",
            "9\n",
            "10\n"
          ]
        }
      ]
    },
    {
      "cell_type": "markdown",
      "metadata": {
        "id": "BvwCKaOxRQ3N"
      },
      "source": [
        "## Exercise 5\n",
        "\n",
        "Write a generator for an infinite sequence of numbers from the Pascal's triangle. The sequence look like this:\n",
        "`1 1 1 1 2 1 1 3 3 1 1 4 6 4 1 1 5 10 10 5 1 1 6 15 20 15 6 1 1 7 21 35 35 21 7 1 1 8 28 56 70 56 28 8 1 1 9 36 84 126 126 84 36 9 1 ... '\n",
        "\n",
        "Test it with a generator from the previous task)"
      ]
    },
    {
      "cell_type": "code",
      "metadata": {
        "id": "EBNNXBUYUqKJ",
        "colab": {
          "base_uri": "https://localhost:8080/"
        },
        "outputId": "993aea3a-7d64-402d-a1ca-cbb770390ca8"
      },
      "source": [
        "def rows_of_pascals_triangle():\n",
        "    row = (1,)\n",
        "    while True:\n",
        "        yield row\n",
        "        pairs_of_previous_entries = zip(row, row[1:])\n",
        "        new_interior_entries = (x + y for x, y in pairs_of_previous_entries)\n",
        "        row = (1, *new_interior_entries, 1)\n",
        "\n",
        "row = rows_of_pascals_triangle()\n",
        "myGenerator = rows_of_pascals_triangle()\n",
        "\n",
        "def limit(input_generator, max_count):\n",
        "  counter = 0\n",
        "  output = []\n",
        "  while counter < max_count:\n",
        "      output.append(next(myGenerator))\n",
        "      counter += 1\n",
        "  print(*(i for j in output for i in j))\n",
        "\n",
        "limit(input_generator, 9)\n"
      ],
      "execution_count": 134,
      "outputs": [
        {
          "output_type": "stream",
          "name": "stdout",
          "text": [
            "1 1 1 1 2 1 1 3 3 1 1 4 6 4 1 1 5 10 10 5 1 1 6 15 20 15 6 1 1 7 21 35 35 21 7 1 1 8 28 56 70 56 28 8 1\n"
          ]
        }
      ]
    },
    {
      "cell_type": "markdown",
      "metadata": {
        "id": "vUiY14pIEiNC"
      },
      "source": [
        "## Exercise 6\n"
      ]
    },
    {
      "cell_type": "code",
      "metadata": {
        "id": "eGLSDqNHGFYn",
        "colab": {
          "base_uri": "https://localhost:8080/"
        },
        "outputId": "f1367c19-8c66-4c75-be12-94d6d5fdec59"
      },
      "source": [
        "import pathlib # can change to os module if you want\n",
        "import os\n",
        "import sys\n",
        "   \n",
        "dirname = os.getcwd()\n",
        "\n",
        "def file_sizes(dirname):\n",
        "    filepaths = []\n",
        "    for base in os.listdir(dirname):\n",
        "        filename = os.path.join(dirname, base)\n",
        "        if os.path.isfile(filename):\n",
        "            filepaths.append(filename)\n",
        "\n",
        "    for i in range(len(filepaths)):\n",
        "        filepaths[i] = (filepaths[i], os.path.getsize(filepaths[i]))\n",
        "    filepaths.sort(key=lambda filename: filename[1])\n",
        "\n",
        "    for i in range(len(filepaths)):\n",
        "        filepaths[i] = filepaths[i][0]\n",
        "\n",
        "    return filepaths\n",
        "file_sizes(dirname)"
      ],
      "execution_count": 151,
      "outputs": [
        {
          "output_type": "execute_result",
          "data": {
            "text/plain": [
              "[]"
            ]
          },
          "metadata": {},
          "execution_count": 151
        }
      ]
    },
    {
      "cell_type": "markdown",
      "metadata": {
        "id": "43eeoixHSa9Y"
      },
      "source": [
        "## Exercise 7\n",
        "\n",
        "Write a `merge_sorter` generator that merges sorted sequences of integers.\n",
        "\n",
        "The generator takes an arbitrary number of arguments. The argument can be any iterable, including another generator. It is guaranteed that each argument is a sequence of integers, sorted in non-decreasing order."
      ]
    },
    {
      "cell_type": "code",
      "metadata": {
        "id": "VHmnqHVaScox",
        "colab": {
          "base_uri": "https://localhost:8080/"
        },
        "outputId": "bae458f5-67a4-485f-97ff-31ff4e9002e2"
      },
      "source": [
        "def generator1():\n",
        "    for i in range(0, 10):\n",
        "        yield i\n",
        "\n",
        "def generator2():\n",
        "    for i in range(10, 20):\n",
        "        yield i\n",
        "\n",
        "def generator3():\n",
        "    for i in range(15, 20):\n",
        "        yield i\n",
        "\n",
        "merge_sorter = heapq.merge(g1(), g2(), g3())\n",
        "\n",
        "print(list(merge_sorter))\n"
      ],
      "execution_count": 159,
      "outputs": [
        {
          "output_type": "stream",
          "name": "stdout",
          "text": [
            "[0, 5, 5, 8, 10, 11, 14, 15, 15, 17, 17, 19, 20, 20, 21, 23, 23, 25, 26, 29]\n"
          ]
        }
      ]
    },
    {
      "cell_type": "markdown",
      "metadata": {
        "id": "7AF_IQRQVQ-k"
      },
      "source": [
        "## Exercise 8\n",
        "\n",
        "Write the decorator `proﬁler`, which, when calling a function, will store in its attributes (not to be confused with arguments) the time of its execution (in seconds, it can be fractional) and the number of recursive calls that occurred during execution. Name the attributes `last_time_taken` and `calls`.\n",
        "It is forbidden to use global variables.\n",
        "The decorator must behave in a decent manner, that is, it must not overwrite the function's documentation.\n",
        "\n",
        "For tests write [Ackermann function](https://en.wikipedia.org/wiki/Ackermann_function)"
      ]
    },
    {
      "cell_type": "code",
      "metadata": {
        "id": "WyJ02jbTVQiu",
        "colab": {
          "base_uri": "https://localhost:8080/",
          "height": 341
        },
        "outputId": "38ae5588-f356-481e-d17f-ec8e03e29a43"
      },
      "source": [
        "### I created a wrapper and broke my code trying to implement \n",
        "\n",
        "import cProfile\n",
        "import io\n",
        "import pstats\n",
        "\n",
        "def profile(func):\n",
        "    def wrapper(*args, **kwargs):\n",
        "        pr = cProfile.Profile()\n",
        "        pr.enable()\n",
        "        retval = func(*args, **kwargs)\n",
        "        pr.disable()\n",
        "        return retval\n",
        "\n",
        "    return wrapper\n",
        "\n",
        "\n",
        "@profiler\n",
        "def ackermann(m, n):\n",
        "    if m == 0:\n",
        "        return n + 1\n",
        "    elif m > 0 and n == 0:\n",
        "        return ackermann(m - 1, 1)\n",
        "    elif m > 0 and n > 0:\n",
        "        return ackermann(m - 1, ackermann(m, n - 1))\n",
        "\n",
        "ackermann(1,1)"
      ],
      "execution_count": 183,
      "outputs": [
        {
          "output_type": "error",
          "ename": "NameError",
          "evalue": "ignored",
          "traceback": [
            "\u001b[0;31m---------------------------------------------------------------------------\u001b[0m",
            "\u001b[0;31mNameError\u001b[0m                                 Traceback (most recent call last)",
            "\u001b[0;32m<ipython-input-183-dab0e3fd361c>\u001b[0m in \u001b[0;36m<module>\u001b[0;34m()\u001b[0m\n\u001b[1;32m     23\u001b[0m         \u001b[0;32mreturn\u001b[0m \u001b[0mackermann\u001b[0m\u001b[0;34m(\u001b[0m\u001b[0mm\u001b[0m \u001b[0;34m-\u001b[0m \u001b[0;36m1\u001b[0m\u001b[0;34m,\u001b[0m \u001b[0mackermann\u001b[0m\u001b[0;34m(\u001b[0m\u001b[0mm\u001b[0m\u001b[0;34m,\u001b[0m \u001b[0mn\u001b[0m \u001b[0;34m-\u001b[0m \u001b[0;36m1\u001b[0m\u001b[0;34m)\u001b[0m\u001b[0;34m)\u001b[0m\u001b[0;34m\u001b[0m\u001b[0;34m\u001b[0m\u001b[0m\n\u001b[1;32m     24\u001b[0m \u001b[0;34m\u001b[0m\u001b[0m\n\u001b[0;32m---> 25\u001b[0;31m \u001b[0mackermann\u001b[0m\u001b[0;34m(\u001b[0m\u001b[0;36m1\u001b[0m\u001b[0;34m,\u001b[0m\u001b[0;36m1\u001b[0m\u001b[0;34m)\u001b[0m\u001b[0;34m\u001b[0m\u001b[0;34m\u001b[0m\u001b[0m\n\u001b[0m",
            "\u001b[0;32m<ipython-input-173-ac34ef7fed9d>\u001b[0m in \u001b[0;36mwrapper\u001b[0;34m(*args, **kwargs)\u001b[0m\n\u001b[1;32m      7\u001b[0m         \u001b[0mpr\u001b[0m \u001b[0;34m=\u001b[0m \u001b[0mcProfile\u001b[0m\u001b[0;34m.\u001b[0m\u001b[0mProfile\u001b[0m\u001b[0;34m(\u001b[0m\u001b[0;34m)\u001b[0m\u001b[0;34m\u001b[0m\u001b[0;34m\u001b[0m\u001b[0m\n\u001b[1;32m      8\u001b[0m         \u001b[0mpr\u001b[0m\u001b[0;34m.\u001b[0m\u001b[0menable\u001b[0m\u001b[0;34m(\u001b[0m\u001b[0;34m)\u001b[0m\u001b[0;34m\u001b[0m\u001b[0;34m\u001b[0m\u001b[0m\n\u001b[0;32m----> 9\u001b[0;31m         \u001b[0mretval\u001b[0m \u001b[0;34m=\u001b[0m \u001b[0mfunc\u001b[0m\u001b[0;34m(\u001b[0m\u001b[0;34m*\u001b[0m\u001b[0margs\u001b[0m\u001b[0;34m,\u001b[0m \u001b[0;34m**\u001b[0m\u001b[0mkwargs\u001b[0m\u001b[0;34m)\u001b[0m\u001b[0;34m\u001b[0m\u001b[0;34m\u001b[0m\u001b[0m\n\u001b[0m\u001b[1;32m     10\u001b[0m         \u001b[0mpr\u001b[0m\u001b[0;34m.\u001b[0m\u001b[0mdisable\u001b[0m\u001b[0;34m(\u001b[0m\u001b[0;34m)\u001b[0m\u001b[0;34m\u001b[0m\u001b[0;34m\u001b[0m\u001b[0m\n\u001b[1;32m     11\u001b[0m         \u001b[0ms\u001b[0m \u001b[0;34m=\u001b[0m \u001b[0mio\u001b[0m\u001b[0;34m.\u001b[0m\u001b[0mStringIO\u001b[0m\u001b[0;34m(\u001b[0m\u001b[0;34m)\u001b[0m\u001b[0;34m\u001b[0m\u001b[0;34m\u001b[0m\u001b[0m\n",
            "\u001b[0;32m<ipython-input-183-dab0e3fd361c>\u001b[0m in \u001b[0;36mackermann\u001b[0;34m(m, n)\u001b[0m\n\u001b[1;32m     21\u001b[0m         \u001b[0;32mreturn\u001b[0m \u001b[0mackermann\u001b[0m\u001b[0;34m(\u001b[0m\u001b[0mm\u001b[0m \u001b[0;34m-\u001b[0m \u001b[0;36m1\u001b[0m\u001b[0;34m,\u001b[0m \u001b[0;36m1\u001b[0m\u001b[0;34m)\u001b[0m\u001b[0;34m\u001b[0m\u001b[0;34m\u001b[0m\u001b[0m\n\u001b[1;32m     22\u001b[0m     \u001b[0;32melif\u001b[0m \u001b[0mm\u001b[0m \u001b[0;34m>\u001b[0m \u001b[0;36m0\u001b[0m \u001b[0;32mand\u001b[0m \u001b[0mn\u001b[0m \u001b[0;34m>\u001b[0m \u001b[0;36m0\u001b[0m\u001b[0;34m:\u001b[0m\u001b[0;34m\u001b[0m\u001b[0;34m\u001b[0m\u001b[0m\n\u001b[0;32m---> 23\u001b[0;31m         \u001b[0;32mreturn\u001b[0m \u001b[0mackermann\u001b[0m\u001b[0;34m(\u001b[0m\u001b[0mm\u001b[0m \u001b[0;34m-\u001b[0m \u001b[0;36m1\u001b[0m\u001b[0;34m,\u001b[0m \u001b[0mackermann\u001b[0m\u001b[0;34m(\u001b[0m\u001b[0mm\u001b[0m\u001b[0;34m,\u001b[0m \u001b[0mn\u001b[0m \u001b[0;34m-\u001b[0m \u001b[0;36m1\u001b[0m\u001b[0;34m)\u001b[0m\u001b[0;34m)\u001b[0m\u001b[0;34m\u001b[0m\u001b[0;34m\u001b[0m\u001b[0m\n\u001b[0m\u001b[1;32m     24\u001b[0m \u001b[0;34m\u001b[0m\u001b[0m\n\u001b[1;32m     25\u001b[0m \u001b[0mackermann\u001b[0m\u001b[0;34m(\u001b[0m\u001b[0;36m1\u001b[0m\u001b[0;34m,\u001b[0m\u001b[0;36m1\u001b[0m\u001b[0;34m)\u001b[0m\u001b[0;34m\u001b[0m\u001b[0;34m\u001b[0m\u001b[0m\n",
            "\u001b[0;32m<ipython-input-173-ac34ef7fed9d>\u001b[0m in \u001b[0;36mwrapper\u001b[0;34m(*args, **kwargs)\u001b[0m\n\u001b[1;32m      7\u001b[0m         \u001b[0mpr\u001b[0m \u001b[0;34m=\u001b[0m \u001b[0mcProfile\u001b[0m\u001b[0;34m.\u001b[0m\u001b[0mProfile\u001b[0m\u001b[0;34m(\u001b[0m\u001b[0;34m)\u001b[0m\u001b[0;34m\u001b[0m\u001b[0;34m\u001b[0m\u001b[0m\n\u001b[1;32m      8\u001b[0m         \u001b[0mpr\u001b[0m\u001b[0;34m.\u001b[0m\u001b[0menable\u001b[0m\u001b[0;34m(\u001b[0m\u001b[0;34m)\u001b[0m\u001b[0;34m\u001b[0m\u001b[0;34m\u001b[0m\u001b[0m\n\u001b[0;32m----> 9\u001b[0;31m         \u001b[0mretval\u001b[0m \u001b[0;34m=\u001b[0m \u001b[0mfunc\u001b[0m\u001b[0;34m(\u001b[0m\u001b[0;34m*\u001b[0m\u001b[0margs\u001b[0m\u001b[0;34m,\u001b[0m \u001b[0;34m**\u001b[0m\u001b[0mkwargs\u001b[0m\u001b[0;34m)\u001b[0m\u001b[0;34m\u001b[0m\u001b[0;34m\u001b[0m\u001b[0m\n\u001b[0m\u001b[1;32m     10\u001b[0m         \u001b[0mpr\u001b[0m\u001b[0;34m.\u001b[0m\u001b[0mdisable\u001b[0m\u001b[0;34m(\u001b[0m\u001b[0;34m)\u001b[0m\u001b[0;34m\u001b[0m\u001b[0;34m\u001b[0m\u001b[0m\n\u001b[1;32m     11\u001b[0m         \u001b[0ms\u001b[0m \u001b[0;34m=\u001b[0m \u001b[0mio\u001b[0m\u001b[0;34m.\u001b[0m\u001b[0mStringIO\u001b[0m\u001b[0;34m(\u001b[0m\u001b[0;34m)\u001b[0m\u001b[0;34m\u001b[0m\u001b[0;34m\u001b[0m\u001b[0m\n",
            "\u001b[0;32m<ipython-input-183-dab0e3fd361c>\u001b[0m in \u001b[0;36mackermann\u001b[0;34m(m, n)\u001b[0m\n\u001b[1;32m     19\u001b[0m         \u001b[0;32mreturn\u001b[0m \u001b[0mn\u001b[0m \u001b[0;34m+\u001b[0m \u001b[0;36m1\u001b[0m\u001b[0;34m\u001b[0m\u001b[0;34m\u001b[0m\u001b[0m\n\u001b[1;32m     20\u001b[0m     \u001b[0;32melif\u001b[0m \u001b[0mm\u001b[0m \u001b[0;34m>\u001b[0m \u001b[0;36m0\u001b[0m \u001b[0;32mand\u001b[0m \u001b[0mn\u001b[0m \u001b[0;34m==\u001b[0m \u001b[0;36m0\u001b[0m\u001b[0;34m:\u001b[0m\u001b[0;34m\u001b[0m\u001b[0;34m\u001b[0m\u001b[0m\n\u001b[0;32m---> 21\u001b[0;31m         \u001b[0;32mreturn\u001b[0m \u001b[0mackermann\u001b[0m\u001b[0;34m(\u001b[0m\u001b[0mm\u001b[0m \u001b[0;34m-\u001b[0m \u001b[0;36m1\u001b[0m\u001b[0;34m,\u001b[0m \u001b[0;36m1\u001b[0m\u001b[0;34m)\u001b[0m\u001b[0;34m\u001b[0m\u001b[0;34m\u001b[0m\u001b[0m\n\u001b[0m\u001b[1;32m     22\u001b[0m     \u001b[0;32melif\u001b[0m \u001b[0mm\u001b[0m \u001b[0;34m>\u001b[0m \u001b[0;36m0\u001b[0m \u001b[0;32mand\u001b[0m \u001b[0mn\u001b[0m \u001b[0;34m>\u001b[0m \u001b[0;36m0\u001b[0m\u001b[0;34m:\u001b[0m\u001b[0;34m\u001b[0m\u001b[0;34m\u001b[0m\u001b[0m\n\u001b[1;32m     23\u001b[0m         \u001b[0;32mreturn\u001b[0m \u001b[0mackermann\u001b[0m\u001b[0;34m(\u001b[0m\u001b[0mm\u001b[0m \u001b[0;34m-\u001b[0m \u001b[0;36m1\u001b[0m\u001b[0;34m,\u001b[0m \u001b[0mackermann\u001b[0m\u001b[0;34m(\u001b[0m\u001b[0mm\u001b[0m\u001b[0;34m,\u001b[0m \u001b[0mn\u001b[0m \u001b[0;34m-\u001b[0m \u001b[0;36m1\u001b[0m\u001b[0;34m)\u001b[0m\u001b[0;34m)\u001b[0m\u001b[0;34m\u001b[0m\u001b[0;34m\u001b[0m\u001b[0m\n",
            "\u001b[0;32m<ipython-input-173-ac34ef7fed9d>\u001b[0m in \u001b[0;36mwrapper\u001b[0;34m(*args, **kwargs)\u001b[0m\n\u001b[1;32m     10\u001b[0m         \u001b[0mpr\u001b[0m\u001b[0;34m.\u001b[0m\u001b[0mdisable\u001b[0m\u001b[0;34m(\u001b[0m\u001b[0;34m)\u001b[0m\u001b[0;34m\u001b[0m\u001b[0;34m\u001b[0m\u001b[0m\n\u001b[1;32m     11\u001b[0m         \u001b[0ms\u001b[0m \u001b[0;34m=\u001b[0m \u001b[0mio\u001b[0m\u001b[0;34m.\u001b[0m\u001b[0mStringIO\u001b[0m\u001b[0;34m(\u001b[0m\u001b[0;34m)\u001b[0m\u001b[0;34m\u001b[0m\u001b[0;34m\u001b[0m\u001b[0m\n\u001b[0;32m---> 12\u001b[0;31m         \u001b[0mps\u001b[0m \u001b[0;34m=\u001b[0m \u001b[0mpstats\u001b[0m\u001b[0;34m.\u001b[0m\u001b[0mStats\u001b[0m\u001b[0;34m(\u001b[0m\u001b[0mpr\u001b[0m\u001b[0;34m,\u001b[0m \u001b[0mstream\u001b[0m\u001b[0;34m=\u001b[0m\u001b[0ms\u001b[0m\u001b[0;34m)\u001b[0m\u001b[0;34m.\u001b[0m\u001b[0msort_stats\u001b[0m\u001b[0;34m(\u001b[0m\u001b[0msortby\u001b[0m\u001b[0;34m)\u001b[0m\u001b[0;34m\u001b[0m\u001b[0;34m\u001b[0m\u001b[0m\n\u001b[0m\u001b[1;32m     13\u001b[0m         \u001b[0mps\u001b[0m\u001b[0;34m.\u001b[0m\u001b[0mprint_stats\u001b[0m\u001b[0;34m(\u001b[0m\u001b[0;34m)\u001b[0m\u001b[0;34m\u001b[0m\u001b[0;34m\u001b[0m\u001b[0m\n\u001b[1;32m     14\u001b[0m         \u001b[0mprint\u001b[0m\u001b[0;34m(\u001b[0m\u001b[0ms\u001b[0m\u001b[0;34m.\u001b[0m\u001b[0mgetvalue\u001b[0m\u001b[0;34m(\u001b[0m\u001b[0;34m)\u001b[0m\u001b[0;34m)\u001b[0m\u001b[0;34m\u001b[0m\u001b[0;34m\u001b[0m\u001b[0m\n",
            "\u001b[0;31mNameError\u001b[0m: name 'sortby' is not defined"
          ]
        }
      ]
    },
    {
      "cell_type": "markdown",
      "metadata": {
        "id": "QcjAealUfs2Q"
      },
      "source": [
        "## Exercise 9\n",
        "\n",
        "Write the function `encode` that implements [run-length encoding](https://en.wikipedia.org/wiki/Run-length_encoding) algorithm"
      ]
    },
    {
      "cell_type": "code",
      "metadata": {
        "id": "tBhwbMm9fsMv"
      },
      "source": [
        "def encode(sequence):\n",
        "    count = 1\n",
        "    result = []\n",
        "    for x,item in enumerate(sequence):\n",
        "        if x == 0:\n",
        "            continue\n",
        "        elif item == sequence[x - 1]:\n",
        "            count += 1\n",
        "        else:\n",
        "            result.append((sequence[x - 1], count))\n",
        "            count = 1\n",
        "    result.append((sequence[len(sequence) - 1], count))\n",
        "    return result"
      ],
      "execution_count": null,
      "outputs": []
    }
  ]
}